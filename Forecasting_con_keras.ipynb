{
  "nbformat": 4,
  "nbformat_minor": 0,
  "metadata": {
    "colab": {
      "provenance": [],
      "gpuType": "T4",
      "mount_file_id": "1TxA2VySivmsYwTxth90tCWp-Sbeah_oW",
      "authorship_tag": "ABX9TyNk5WkPqu+elI9W+yRnHqi0",
      "include_colab_link": true
    },
    "kernelspec": {
      "name": "python3",
      "display_name": "Python 3"
    },
    "language_info": {
      "name": "python"
    },
    "accelerator": "GPU"
  },
  "cells": [
    {
      "cell_type": "markdown",
      "metadata": {
        "id": "view-in-github",
        "colab_type": "text"
      },
      "source": [
        "<a href=\"https://colab.research.google.com/github/danielgrgurevic/PortafolioDataScience/blob/main/Forecasting_con_keras.ipynb\" target=\"_parent\"><img src=\"https://colab.research.google.com/assets/colab-badge.svg\" alt=\"Open In Colab\"/></a>"
      ]
    },
    {
      "cell_type": "code",
      "source": [
        "#Importar librerias\n",
        "import pandas as pd\n",
        "import numpy as np\n",
        "import matplotlib.pyplot as plt\n",
        "from sklearn.model_selection import train_test_split\n",
        "from sklearn.preprocessing import MinMaxScaler\n",
        "import tensorflow as tf\n",
        "from tensorflow.keras.models import Sequential\n",
        "from tensorflow.keras.layers import Dense, LSTM\n",
        "\n",
        "# Cargar el dataframe\n",
        "df = pd.read_csv('/content/drive/MyDrive/Data science/Portafolio Proyectos/NVDA.csv',index_col='Date', parse_dates=['Date'])"
      ],
      "metadata": {
        "id": "pWF-J6Xeddy_"
      },
      "execution_count": null,
      "outputs": []
    },
    {
      "cell_type": "code",
      "source": [
        "#Mostrar las 5 primeras filas\n",
        "df.head()"
      ],
      "metadata": {
        "colab": {
          "base_uri": "https://localhost:8080/",
          "height": 238
        },
        "id": "ZC7ZfUqyuyYf",
        "outputId": "3531d20a-4ad4-44c9-9b46-3f0e61a41c9c"
      },
      "execution_count": null,
      "outputs": [
        {
          "output_type": "execute_result",
          "data": {
            "text/plain": [
              "                 Open       High        Low      Close  Adj Close    Volume\n",
              "Date                                                                       \n",
              "2018-10-04  71.317497  71.562500  69.044998  69.822502  69.216995  39122000\n",
              "2018-10-05  69.572502  70.199997  66.885002  67.464996  66.879913  42663600\n",
              "2018-10-08  66.625000  67.790001  65.019997  66.442497  65.866295  40861200\n",
              "2018-10-09  66.235001  67.190002  65.699997  66.385002  65.809296  27350000\n",
              "2018-10-10  65.315002  65.777496  61.400002  61.422501  60.889839  68494000"
            ],
            "text/html": [
              "\n",
              "  <div id=\"df-e890cd9a-2d40-4a80-8b11-487eea19557d\" class=\"colab-df-container\">\n",
              "    <div>\n",
              "<style scoped>\n",
              "    .dataframe tbody tr th:only-of-type {\n",
              "        vertical-align: middle;\n",
              "    }\n",
              "\n",
              "    .dataframe tbody tr th {\n",
              "        vertical-align: top;\n",
              "    }\n",
              "\n",
              "    .dataframe thead th {\n",
              "        text-align: right;\n",
              "    }\n",
              "</style>\n",
              "<table border=\"1\" class=\"dataframe\">\n",
              "  <thead>\n",
              "    <tr style=\"text-align: right;\">\n",
              "      <th></th>\n",
              "      <th>Open</th>\n",
              "      <th>High</th>\n",
              "      <th>Low</th>\n",
              "      <th>Close</th>\n",
              "      <th>Adj Close</th>\n",
              "      <th>Volume</th>\n",
              "    </tr>\n",
              "    <tr>\n",
              "      <th>Date</th>\n",
              "      <th></th>\n",
              "      <th></th>\n",
              "      <th></th>\n",
              "      <th></th>\n",
              "      <th></th>\n",
              "      <th></th>\n",
              "    </tr>\n",
              "  </thead>\n",
              "  <tbody>\n",
              "    <tr>\n",
              "      <th>2018-10-04</th>\n",
              "      <td>71.317497</td>\n",
              "      <td>71.562500</td>\n",
              "      <td>69.044998</td>\n",
              "      <td>69.822502</td>\n",
              "      <td>69.216995</td>\n",
              "      <td>39122000</td>\n",
              "    </tr>\n",
              "    <tr>\n",
              "      <th>2018-10-05</th>\n",
              "      <td>69.572502</td>\n",
              "      <td>70.199997</td>\n",
              "      <td>66.885002</td>\n",
              "      <td>67.464996</td>\n",
              "      <td>66.879913</td>\n",
              "      <td>42663600</td>\n",
              "    </tr>\n",
              "    <tr>\n",
              "      <th>2018-10-08</th>\n",
              "      <td>66.625000</td>\n",
              "      <td>67.790001</td>\n",
              "      <td>65.019997</td>\n",
              "      <td>66.442497</td>\n",
              "      <td>65.866295</td>\n",
              "      <td>40861200</td>\n",
              "    </tr>\n",
              "    <tr>\n",
              "      <th>2018-10-09</th>\n",
              "      <td>66.235001</td>\n",
              "      <td>67.190002</td>\n",
              "      <td>65.699997</td>\n",
              "      <td>66.385002</td>\n",
              "      <td>65.809296</td>\n",
              "      <td>27350000</td>\n",
              "    </tr>\n",
              "    <tr>\n",
              "      <th>2018-10-10</th>\n",
              "      <td>65.315002</td>\n",
              "      <td>65.777496</td>\n",
              "      <td>61.400002</td>\n",
              "      <td>61.422501</td>\n",
              "      <td>60.889839</td>\n",
              "      <td>68494000</td>\n",
              "    </tr>\n",
              "  </tbody>\n",
              "</table>\n",
              "</div>\n",
              "    <div class=\"colab-df-buttons\">\n",
              "\n",
              "  <div class=\"colab-df-container\">\n",
              "    <button class=\"colab-df-convert\" onclick=\"convertToInteractive('df-e890cd9a-2d40-4a80-8b11-487eea19557d')\"\n",
              "            title=\"Convert this dataframe to an interactive table.\"\n",
              "            style=\"display:none;\">\n",
              "\n",
              "  <svg xmlns=\"http://www.w3.org/2000/svg\" height=\"24px\" viewBox=\"0 -960 960 960\">\n",
              "    <path d=\"M120-120v-720h720v720H120Zm60-500h600v-160H180v160Zm220 220h160v-160H400v160Zm0 220h160v-160H400v160ZM180-400h160v-160H180v160Zm440 0h160v-160H620v160ZM180-180h160v-160H180v160Zm440 0h160v-160H620v160Z\"/>\n",
              "  </svg>\n",
              "    </button>\n",
              "\n",
              "  <style>\n",
              "    .colab-df-container {\n",
              "      display:flex;\n",
              "      gap: 12px;\n",
              "    }\n",
              "\n",
              "    .colab-df-convert {\n",
              "      background-color: #E8F0FE;\n",
              "      border: none;\n",
              "      border-radius: 50%;\n",
              "      cursor: pointer;\n",
              "      display: none;\n",
              "      fill: #1967D2;\n",
              "      height: 32px;\n",
              "      padding: 0 0 0 0;\n",
              "      width: 32px;\n",
              "    }\n",
              "\n",
              "    .colab-df-convert:hover {\n",
              "      background-color: #E2EBFA;\n",
              "      box-shadow: 0px 1px 2px rgba(60, 64, 67, 0.3), 0px 1px 3px 1px rgba(60, 64, 67, 0.15);\n",
              "      fill: #174EA6;\n",
              "    }\n",
              "\n",
              "    .colab-df-buttons div {\n",
              "      margin-bottom: 4px;\n",
              "    }\n",
              "\n",
              "    [theme=dark] .colab-df-convert {\n",
              "      background-color: #3B4455;\n",
              "      fill: #D2E3FC;\n",
              "    }\n",
              "\n",
              "    [theme=dark] .colab-df-convert:hover {\n",
              "      background-color: #434B5C;\n",
              "      box-shadow: 0px 1px 3px 1px rgba(0, 0, 0, 0.15);\n",
              "      filter: drop-shadow(0px 1px 2px rgba(0, 0, 0, 0.3));\n",
              "      fill: #FFFFFF;\n",
              "    }\n",
              "  </style>\n",
              "\n",
              "    <script>\n",
              "      const buttonEl =\n",
              "        document.querySelector('#df-e890cd9a-2d40-4a80-8b11-487eea19557d button.colab-df-convert');\n",
              "      buttonEl.style.display =\n",
              "        google.colab.kernel.accessAllowed ? 'block' : 'none';\n",
              "\n",
              "      async function convertToInteractive(key) {\n",
              "        const element = document.querySelector('#df-e890cd9a-2d40-4a80-8b11-487eea19557d');\n",
              "        const dataTable =\n",
              "          await google.colab.kernel.invokeFunction('convertToInteractive',\n",
              "                                                    [key], {});\n",
              "        if (!dataTable) return;\n",
              "\n",
              "        const docLinkHtml = 'Like what you see? Visit the ' +\n",
              "          '<a target=\"_blank\" href=https://colab.research.google.com/notebooks/data_table.ipynb>data table notebook</a>'\n",
              "          + ' to learn more about interactive tables.';\n",
              "        element.innerHTML = '';\n",
              "        dataTable['output_type'] = 'display_data';\n",
              "        await google.colab.output.renderOutput(dataTable, element);\n",
              "        const docLink = document.createElement('div');\n",
              "        docLink.innerHTML = docLinkHtml;\n",
              "        element.appendChild(docLink);\n",
              "      }\n",
              "    </script>\n",
              "  </div>\n",
              "\n",
              "\n",
              "<div id=\"df-78ae4dda-7a9b-42c6-8ce8-67fe6a5c24c9\">\n",
              "  <button class=\"colab-df-quickchart\" onclick=\"quickchart('df-78ae4dda-7a9b-42c6-8ce8-67fe6a5c24c9')\"\n",
              "            title=\"Suggest charts.\"\n",
              "            style=\"display:none;\">\n",
              "\n",
              "<svg xmlns=\"http://www.w3.org/2000/svg\" height=\"24px\"viewBox=\"0 0 24 24\"\n",
              "     width=\"24px\">\n",
              "    <g>\n",
              "        <path d=\"M19 3H5c-1.1 0-2 .9-2 2v14c0 1.1.9 2 2 2h14c1.1 0 2-.9 2-2V5c0-1.1-.9-2-2-2zM9 17H7v-7h2v7zm4 0h-2V7h2v10zm4 0h-2v-4h2v4z\"/>\n",
              "    </g>\n",
              "</svg>\n",
              "  </button>\n",
              "\n",
              "<style>\n",
              "  .colab-df-quickchart {\n",
              "      --bg-color: #E8F0FE;\n",
              "      --fill-color: #1967D2;\n",
              "      --hover-bg-color: #E2EBFA;\n",
              "      --hover-fill-color: #174EA6;\n",
              "      --disabled-fill-color: #AAA;\n",
              "      --disabled-bg-color: #DDD;\n",
              "  }\n",
              "\n",
              "  [theme=dark] .colab-df-quickchart {\n",
              "      --bg-color: #3B4455;\n",
              "      --fill-color: #D2E3FC;\n",
              "      --hover-bg-color: #434B5C;\n",
              "      --hover-fill-color: #FFFFFF;\n",
              "      --disabled-bg-color: #3B4455;\n",
              "      --disabled-fill-color: #666;\n",
              "  }\n",
              "\n",
              "  .colab-df-quickchart {\n",
              "    background-color: var(--bg-color);\n",
              "    border: none;\n",
              "    border-radius: 50%;\n",
              "    cursor: pointer;\n",
              "    display: none;\n",
              "    fill: var(--fill-color);\n",
              "    height: 32px;\n",
              "    padding: 0;\n",
              "    width: 32px;\n",
              "  }\n",
              "\n",
              "  .colab-df-quickchart:hover {\n",
              "    background-color: var(--hover-bg-color);\n",
              "    box-shadow: 0 1px 2px rgba(60, 64, 67, 0.3), 0 1px 3px 1px rgba(60, 64, 67, 0.15);\n",
              "    fill: var(--button-hover-fill-color);\n",
              "  }\n",
              "\n",
              "  .colab-df-quickchart-complete:disabled,\n",
              "  .colab-df-quickchart-complete:disabled:hover {\n",
              "    background-color: var(--disabled-bg-color);\n",
              "    fill: var(--disabled-fill-color);\n",
              "    box-shadow: none;\n",
              "  }\n",
              "\n",
              "  .colab-df-spinner {\n",
              "    border: 2px solid var(--fill-color);\n",
              "    border-color: transparent;\n",
              "    border-bottom-color: var(--fill-color);\n",
              "    animation:\n",
              "      spin 1s steps(1) infinite;\n",
              "  }\n",
              "\n",
              "  @keyframes spin {\n",
              "    0% {\n",
              "      border-color: transparent;\n",
              "      border-bottom-color: var(--fill-color);\n",
              "      border-left-color: var(--fill-color);\n",
              "    }\n",
              "    20% {\n",
              "      border-color: transparent;\n",
              "      border-left-color: var(--fill-color);\n",
              "      border-top-color: var(--fill-color);\n",
              "    }\n",
              "    30% {\n",
              "      border-color: transparent;\n",
              "      border-left-color: var(--fill-color);\n",
              "      border-top-color: var(--fill-color);\n",
              "      border-right-color: var(--fill-color);\n",
              "    }\n",
              "    40% {\n",
              "      border-color: transparent;\n",
              "      border-right-color: var(--fill-color);\n",
              "      border-top-color: var(--fill-color);\n",
              "    }\n",
              "    60% {\n",
              "      border-color: transparent;\n",
              "      border-right-color: var(--fill-color);\n",
              "    }\n",
              "    80% {\n",
              "      border-color: transparent;\n",
              "      border-right-color: var(--fill-color);\n",
              "      border-bottom-color: var(--fill-color);\n",
              "    }\n",
              "    90% {\n",
              "      border-color: transparent;\n",
              "      border-bottom-color: var(--fill-color);\n",
              "    }\n",
              "  }\n",
              "</style>\n",
              "\n",
              "  <script>\n",
              "    async function quickchart(key) {\n",
              "      const quickchartButtonEl =\n",
              "        document.querySelector('#' + key + ' button');\n",
              "      quickchartButtonEl.disabled = true;  // To prevent multiple clicks.\n",
              "      quickchartButtonEl.classList.add('colab-df-spinner');\n",
              "      try {\n",
              "        const charts = await google.colab.kernel.invokeFunction(\n",
              "            'suggestCharts', [key], {});\n",
              "      } catch (error) {\n",
              "        console.error('Error during call to suggestCharts:', error);\n",
              "      }\n",
              "      quickchartButtonEl.classList.remove('colab-df-spinner');\n",
              "      quickchartButtonEl.classList.add('colab-df-quickchart-complete');\n",
              "    }\n",
              "    (() => {\n",
              "      let quickchartButtonEl =\n",
              "        document.querySelector('#df-78ae4dda-7a9b-42c6-8ce8-67fe6a5c24c9 button');\n",
              "      quickchartButtonEl.style.display =\n",
              "        google.colab.kernel.accessAllowed ? 'block' : 'none';\n",
              "    })();\n",
              "  </script>\n",
              "</div>\n",
              "    </div>\n",
              "  </div>\n"
            ]
          },
          "metadata": {},
          "execution_count": 48
        }
      ]
    },
    {
      "cell_type": "code",
      "source": [
        "df.shape"
      ],
      "metadata": {
        "colab": {
          "base_uri": "https://localhost:8080/"
        },
        "id": "3yiLPRiniK7L",
        "outputId": "61eaffac-09bd-4942-92f4-c2021a81befa"
      },
      "execution_count": null,
      "outputs": [
        {
          "output_type": "execute_result",
          "data": {
            "text/plain": [
              "(1257, 6)"
            ]
          },
          "metadata": {},
          "execution_count": 49
        }
      ]
    },
    {
      "cell_type": "code",
      "source": [
        "df.info()"
      ],
      "metadata": {
        "colab": {
          "base_uri": "https://localhost:8080/"
        },
        "id": "ccTdgHTTdrgB",
        "outputId": "76e30009-ca62-44cc-8589-935b1575dbc8"
      },
      "execution_count": null,
      "outputs": [
        {
          "output_type": "stream",
          "name": "stdout",
          "text": [
            "<class 'pandas.core.frame.DataFrame'>\n",
            "DatetimeIndex: 1257 entries, 2018-10-04 to 2023-10-03\n",
            "Data columns (total 6 columns):\n",
            " #   Column     Non-Null Count  Dtype  \n",
            "---  ------     --------------  -----  \n",
            " 0   Open       1257 non-null   float64\n",
            " 1   High       1257 non-null   float64\n",
            " 2   Low        1257 non-null   float64\n",
            " 3   Close      1257 non-null   float64\n",
            " 4   Adj Close  1257 non-null   float64\n",
            " 5   Volume     1257 non-null   int64  \n",
            "dtypes: float64(5), int64(1)\n",
            "memory usage: 68.7 KB\n"
          ]
        }
      ]
    },
    {
      "cell_type": "markdown",
      "source": [
        "#Pre-Procesamiento de los Datos"
      ],
      "metadata": {
        "id": "mfPSqJPfs57d"
      }
    },
    {
      "cell_type": "code",
      "source": [
        "#Crear sets de entrenamiento y validación\n",
        "set_entrenamiento = df[:'2020'].iloc[:,1:2]\n",
        "set_validacion = df['2021':].iloc[:,1:2]"
      ],
      "metadata": {
        "id": "TiKzr-vru7jL"
      },
      "execution_count": null,
      "outputs": []
    },
    {
      "cell_type": "code",
      "source": [
        "set_validacion.shape"
      ],
      "metadata": {
        "colab": {
          "base_uri": "https://localhost:8080/"
        },
        "id": "TtUPshFEEveM",
        "outputId": "d2b0acaf-f37a-48c5-b293-a00b340c2c34"
      },
      "execution_count": null,
      "outputs": [
        {
          "output_type": "execute_result",
          "data": {
            "text/plain": [
              "(692, 1)"
            ]
          },
          "metadata": {},
          "execution_count": 52
        }
      ]
    },
    {
      "cell_type": "code",
      "source": [
        "#Normalizar datos, usando la librería Scikit-learn, para normalizar valores entre 0 y 1.\n",
        "sc = MinMaxScaler(feature_range=(0,1))\n",
        "set_entrenamiento_escalado = sc.fit_transform(set_entrenamiento)"
      ],
      "metadata": {
        "id": "vYzjTZG4vu_X"
      },
      "execution_count": null,
      "outputs": []
    },
    {
      "cell_type": "markdown",
      "source": [
        "Para entrenar la red LSTM se tomarán 60 datos consecutivos, los bloques de 60 datos se almacenarán en la varible 'x', mientras que el data 61, el que se va a predecir se almacenará en la variable 'y', y será usado como salida en la red LSTM"
      ],
      "metadata": {
        "id": "91lWhwa9tfrC"
      }
    },
    {
      "cell_type": "code",
      "source": [
        "time_step = 60\n",
        "X_train = []\n",
        "Y_train = []\n",
        "m = len(set_entrenamiento_escalado)\n",
        "\n",
        "for i in range(time_step,m):\n",
        "    # X: bloques de \"time_step\" datos: 0-time_step, 1-time_step+1, 2-time_step+2, etc\n",
        "    X_train.append(set_entrenamiento_escalado[i-time_step:i,0])\n",
        "\n",
        "    # Y: el siguiente dato\n",
        "    Y_train.append(set_entrenamiento_escalado[i,0])\n",
        "X_train, Y_train = np.array(X_train), np.array(Y_train)"
      ],
      "metadata": {
        "id": "gC_iJtPyw13s"
      },
      "execution_count": null,
      "outputs": []
    },
    {
      "cell_type": "markdown",
      "source": [
        "Se re ajustan los sets para indicar que cada ejemplo de entrenamiento a la entrada del modelo será un ventor de 60 x 1"
      ],
      "metadata": {
        "id": "aPrHe5hdu8l2"
      }
    },
    {
      "cell_type": "code",
      "source": [
        "X_train = np.reshape(X_train, (X_train.shape[0], X_train.shape[1], 1))"
      ],
      "metadata": {
        "id": "D4ucVNIkxnB8"
      },
      "execution_count": null,
      "outputs": []
    },
    {
      "cell_type": "markdown",
      "source": [
        "# Implementación del modelo en Keras"
      ],
      "metadata": {
        "id": "eBWeQMIPzLwl"
      }
    },
    {
      "cell_type": "markdown",
      "source": [
        "Se define el tamaño de los datos de entrada y  del dato de salida, así como el número total de neuronas (50)."
      ],
      "metadata": {
        "id": "Jf5LfZruwk8H"
      }
    },
    {
      "cell_type": "code",
      "source": [
        "dim_entrada = (X_train.shape[1],1)\n",
        "dim_salida = 1\n",
        "na = 50\n",
        "\n",
        "modelo = Sequential()\n",
        "modelo.add(LSTM(units=na, input_shape=dim_entrada))\n",
        "modelo.add(Dense(units=dim_salida))\n",
        "modelo.compile(optimizer='rmsprop', loss='mse')"
      ],
      "metadata": {
        "id": "Tr-d_pRIx1ng"
      },
      "execution_count": null,
      "outputs": []
    },
    {
      "cell_type": "code",
      "source": [
        "historia_entrenamiento = modelo.fit(X_train, Y_train, epochs=50, batch_size=32)"
      ],
      "metadata": {
        "id": "EmmcsLbqz1eR",
        "colab": {
          "base_uri": "https://localhost:8080/"
        },
        "outputId": "66dad845-6820-41f5-efd2-d79291eee308"
      },
      "execution_count": null,
      "outputs": [
        {
          "output_type": "stream",
          "name": "stdout",
          "text": [
            "Epoch 1/50\n",
            "16/16 [==============================] - 3s 8ms/step - loss: 0.0255\n",
            "Epoch 2/50\n",
            "16/16 [==============================] - 0s 7ms/step - loss: 0.0017\n",
            "Epoch 3/50\n",
            "16/16 [==============================] - 0s 8ms/step - loss: 0.0021\n",
            "Epoch 4/50\n",
            "16/16 [==============================] - 0s 6ms/step - loss: 0.0023\n",
            "Epoch 5/50\n",
            "16/16 [==============================] - 0s 7ms/step - loss: 0.0017\n",
            "Epoch 6/50\n",
            "16/16 [==============================] - 0s 6ms/step - loss: 0.0013\n",
            "Epoch 7/50\n",
            "16/16 [==============================] - 0s 5ms/step - loss: 0.0014\n",
            "Epoch 8/50\n",
            "16/16 [==============================] - 0s 5ms/step - loss: 0.0015\n",
            "Epoch 9/50\n",
            "16/16 [==============================] - 0s 6ms/step - loss: 0.0013\n",
            "Epoch 10/50\n",
            "16/16 [==============================] - 0s 5ms/step - loss: 0.0012\n",
            "Epoch 11/50\n",
            "16/16 [==============================] - 0s 6ms/step - loss: 0.0013\n",
            "Epoch 12/50\n",
            "16/16 [==============================] - 0s 6ms/step - loss: 0.0010\n",
            "Epoch 13/50\n",
            "16/16 [==============================] - 0s 8ms/step - loss: 0.0014\n",
            "Epoch 14/50\n",
            "16/16 [==============================] - 0s 8ms/step - loss: 0.0012\n",
            "Epoch 15/50\n",
            "16/16 [==============================] - 0s 7ms/step - loss: 0.0011\n",
            "Epoch 16/50\n",
            "16/16 [==============================] - 0s 6ms/step - loss: 0.0012\n",
            "Epoch 17/50\n",
            "16/16 [==============================] - 0s 6ms/step - loss: 9.8613e-04\n",
            "Epoch 18/50\n",
            "16/16 [==============================] - 0s 5ms/step - loss: 8.9500e-04\n",
            "Epoch 19/50\n",
            "16/16 [==============================] - 0s 5ms/step - loss: 0.0011\n",
            "Epoch 20/50\n",
            "16/16 [==============================] - 0s 5ms/step - loss: 0.0010\n",
            "Epoch 21/50\n",
            "16/16 [==============================] - 0s 5ms/step - loss: 8.9472e-04\n",
            "Epoch 22/50\n",
            "16/16 [==============================] - 0s 5ms/step - loss: 9.9528e-04\n",
            "Epoch 23/50\n",
            "16/16 [==============================] - 0s 6ms/step - loss: 7.8636e-04\n",
            "Epoch 24/50\n",
            "16/16 [==============================] - 0s 5ms/step - loss: 8.8001e-04\n",
            "Epoch 25/50\n",
            "16/16 [==============================] - 0s 6ms/step - loss: 0.0010\n",
            "Epoch 26/50\n",
            "16/16 [==============================] - 0s 7ms/step - loss: 8.5238e-04\n",
            "Epoch 27/50\n",
            "16/16 [==============================] - 0s 7ms/step - loss: 8.8656e-04\n",
            "Epoch 28/50\n",
            "16/16 [==============================] - 0s 7ms/step - loss: 8.5484e-04\n",
            "Epoch 29/50\n",
            "16/16 [==============================] - 0s 8ms/step - loss: 9.3507e-04\n",
            "Epoch 30/50\n",
            "16/16 [==============================] - 0s 6ms/step - loss: 8.9015e-04\n",
            "Epoch 31/50\n",
            "16/16 [==============================] - 0s 5ms/step - loss: 7.7867e-04\n",
            "Epoch 32/50\n",
            "16/16 [==============================] - 0s 5ms/step - loss: 9.4237e-04\n",
            "Epoch 33/50\n",
            "16/16 [==============================] - 0s 6ms/step - loss: 7.6827e-04\n",
            "Epoch 34/50\n",
            "16/16 [==============================] - 0s 5ms/step - loss: 8.0740e-04\n",
            "Epoch 35/50\n",
            "16/16 [==============================] - 0s 5ms/step - loss: 7.1374e-04\n",
            "Epoch 36/50\n",
            "16/16 [==============================] - 0s 5ms/step - loss: 7.1280e-04\n",
            "Epoch 37/50\n",
            "16/16 [==============================] - 0s 5ms/step - loss: 7.8678e-04\n",
            "Epoch 38/50\n",
            "16/16 [==============================] - 0s 5ms/step - loss: 7.8468e-04\n",
            "Epoch 39/50\n",
            "16/16 [==============================] - 0s 5ms/step - loss: 7.8755e-04\n",
            "Epoch 40/50\n",
            "16/16 [==============================] - 0s 7ms/step - loss: 6.9537e-04\n",
            "Epoch 41/50\n",
            "16/16 [==============================] - 0s 7ms/step - loss: 6.1107e-04\n",
            "Epoch 42/50\n",
            "16/16 [==============================] - 0s 6ms/step - loss: 8.0195e-04\n",
            "Epoch 43/50\n",
            "16/16 [==============================] - 0s 7ms/step - loss: 6.8808e-04\n",
            "Epoch 44/50\n",
            "16/16 [==============================] - 0s 5ms/step - loss: 6.7029e-04\n",
            "Epoch 45/50\n",
            "16/16 [==============================] - 0s 5ms/step - loss: 7.6473e-04\n",
            "Epoch 46/50\n",
            "16/16 [==============================] - 0s 5ms/step - loss: 7.0647e-04\n",
            "Epoch 47/50\n",
            "16/16 [==============================] - 0s 5ms/step - loss: 6.7297e-04\n",
            "Epoch 48/50\n",
            "16/16 [==============================] - 0s 5ms/step - loss: 6.1112e-04\n",
            "Epoch 49/50\n",
            "16/16 [==============================] - 0s 5ms/step - loss: 6.6505e-04\n",
            "Epoch 50/50\n",
            "16/16 [==============================] - 0s 5ms/step - loss: 6.5789e-04\n"
          ]
        }
      ]
    },
    {
      "cell_type": "code",
      "source": [
        "# Visualización de la pérdida durante el entrenamiento\n",
        "plt.plot(historia_entrenamiento.history['loss'])\n",
        "plt.title('Pérdida durante el entrenamiento')\n",
        "plt.xlabel('Época')\n",
        "plt.ylabel('Pérdida')\n",
        "plt.show()"
      ],
      "metadata": {
        "colab": {
          "base_uri": "https://localhost:8080/",
          "height": 474
        },
        "id": "lCOiyjunxk2H",
        "outputId": "8f20bab9-03a2-445f-ec9b-596b60f576e7"
      },
      "execution_count": null,
      "outputs": [
        {
          "output_type": "display_data",
          "data": {
            "text/plain": [
              "<Figure size 640x480 with 1 Axes>"
            ],
            "image/png": "[encoded data removed]"
          },
          "metadata": {}
        }
      ]
    },
    {
      "cell_type": "markdown",
      "source": [
        "# Predicción del valor de la Acción"
      ],
      "metadata": {
        "id": "FwtndhGu0w-I"
      }
    },
    {
      "cell_type": "markdown",
      "source": [
        "Inicialmente debemos preparar el set de validación, normalizando inicialmente los datos, en el rango de 0 a 1, para lo cual usamos la transformación implementada anteriormente sobre el set de entrenamiento"
      ],
      "metadata": {
        "id": "EqfV39a9w-ui"
      }
    },
    {
      "cell_type": "code",
      "source": [
        "x_test = set_validacion.values\n",
        "x_test = sc.transform(x_test)"
      ],
      "metadata": {
        "colab": {
          "base_uri": "https://localhost:8080/"
        },
        "id": "RQkcpkvZz4e8",
        "outputId": "ba6c9ebe-618e-43c7-e785-7d9eaa3a5904"
      },
      "execution_count": null,
      "outputs": [
        {
          "output_type": "stream",
          "name": "stderr",
          "text": [
            "/usr/local/lib/python3.10/dist-packages/sklearn/base.py:439: UserWarning: X does not have valid feature names, but MinMaxScaler was fitted with feature names\n",
            "  warnings.warn(\n"
          ]
        }
      ]
    },
    {
      "cell_type": "markdown",
      "source": [
        "Recordemos que el modelo fue entrenado para tomar 60 y generar un dato como predicción. Así que debemos reorganizar el set de validación (x_test) para que tenga bloques de 60 datos:"
      ],
      "metadata": {
        "id": "zxze9sy8xKwD"
      }
    },
    {
      "cell_type": "code",
      "source": [
        "X_test = []\n",
        "for i in range(time_step,len(x_test)):\n",
        "    X_test.append(x_test[i-time_step:i,0])\n",
        "X_test = np.array(X_test)\n",
        "X_test = np.reshape(X_test, (X_test.shape[0],X_test.shape[1],1))"
      ],
      "metadata": {
        "id": "fxxVlEB503GU"
      },
      "execution_count": null,
      "outputs": []
    },
    {
      "cell_type": "markdown",
      "source": [
        "Y finalmente realizamos la predicción usando la función predict y aplicamos la normalización inversa de dicha predicción para que esté en la escala real de las acciones:"
      ],
      "metadata": {
        "id": "ZogQvGkKxO14"
      }
    },
    {
      "cell_type": "code",
      "source": [
        "prediccion = modelo.predict(X_test)\n",
        "prediccion = sc.inverse_transform(prediccion)"
      ],
      "metadata": {
        "colab": {
          "base_uri": "https://localhost:8080/"
        },
        "id": "ItNLEO-3074x",
        "outputId": "c1c387c7-f0e3-4791-93cd-83296495a3fd"
      },
      "execution_count": null,
      "outputs": [
        {
          "output_type": "stream",
          "name": "stdout",
          "text": [
            "20/20 [==============================] - 0s 3ms/step\n"
          ]
        }
      ]
    },
    {
      "cell_type": "code",
      "source": [
        "def graficar_predicciones(real, prediccion):\n",
        "    plt.plot(real[0:len(prediccion)],color='red', label='Valor real de la acción')\n",
        "    plt.plot(prediccion, color='blue', label='Predicción de la acción')\n",
        "    plt.xlabel('Tiempo')\n",
        "    plt.ylabel('Valor de la acción')\n",
        "    plt.legend()\n",
        "    plt.show()"
      ],
      "metadata": {
        "id": "PAx4FtcO0-ck"
      },
      "execution_count": null,
      "outputs": []
    },
    {
      "cell_type": "code",
      "source": [
        "# Graficar resultados\n",
        "graficar_predicciones(set_validacion.values,prediccion)"
      ],
      "metadata": {
        "colab": {
          "base_uri": "https://localhost:8080/",
          "height": 449
        },
        "id": "dRjAxJa_1Lvd",
        "outputId": "2abddd4a-c9f1-4ecb-cbc6-a7ff125a55d9"
      },
      "execution_count": null,
      "outputs": [
        {
          "output_type": "display_data",
          "data": {
            "text/plain": [
              "<Figure size 640x480 with 1 Axes>"
            ],
            "image/png": "[encoded data removed]"
          },
          "metadata": {}
        }
      ]
    }
  ]
}